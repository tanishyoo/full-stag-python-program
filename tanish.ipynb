{
 "cells": [
  {
   "cell_type": "code",
   "execution_count": 4,
   "id": "16dfb574-2477-4720-9fa0-c10934e9e299",
   "metadata": {},
   "outputs": [
    {
     "name": "stdout",
     "output_type": "stream",
     "text": [
      "hello, python full stack student!\n"
     ]
    }
   ],
   "source": [
    "print(\"hello, python full stack student!\")"
   ]
  },
  {
   "cell_type": "code",
   "execution_count": 5,
   "id": "6f5061d7-4209-4a00-92f5-0b25c262cbc2",
   "metadata": {},
   "outputs": [
    {
     "name": "stdout",
     "output_type": "stream",
     "text": [
      "my name is Tanish\n"
     ]
    }
   ],
   "source": [
    "print(\"my name is Tanish\")"
   ]
  },
  {
   "cell_type": "code",
   "execution_count": 6,
   "id": "276ceccc-a7a1-4999-80fb-ff4f07b47f0a",
   "metadata": {},
   "outputs": [
    {
     "name": "stdout",
     "output_type": "stream",
     "text": [
      "i am studying in b.com(CA)\n"
     ]
    }
   ],
   "source": [
    "print(\"i am studying in b.com(CA)\")"
   ]
  },
  {
   "cell_type": "code",
   "execution_count": 10,
   "id": "8d9aa9e6-45ee-43cb-807c-0a83cfa23bce",
   "metadata": {},
   "outputs": [],
   "source": [
    "name = \"tanish\"\n",
    "age = 19\n",
    "gpa = 8.5\n",
    "is_student = True\n"
   ]
  },
  {
   "cell_type": "code",
   "execution_count": 13,
   "id": "2c1d436c-7fcf-4e24-92b1-8fe83ac43287",
   "metadata": {},
   "outputs": [
    {
     "name": "stdout",
     "output_type": "stream",
     "text": [
      "tanish 19 8.5 True\n"
     ]
    }
   ],
   "source": [
    "print(name, age, gpa, is_student)"
   ]
  },
  {
   "cell_type": "code",
   "execution_count": 14,
   "id": "6d7a6ae9-6b9f-4915-8efb-28da3694d00b",
   "metadata": {},
   "outputs": [],
   "source": [
    "name = \"manish\"\n",
    "age = 22\n",
    "gpa = 7.8\n",
    "is_student = False\n"
   ]
  },
  {
   "cell_type": "code",
   "execution_count": 15,
   "id": "acd57127-a0eb-42cf-8d2c-181f24fcb671",
   "metadata": {},
   "outputs": [
    {
     "name": "stdout",
     "output_type": "stream",
     "text": [
      "manish 22 7.8 False\n"
     ]
    }
   ],
   "source": [
    "print(name, age, gpa, is_student)"
   ]
  },
  {
   "cell_type": "code",
   "execution_count": 18,
   "id": "e7ad8ad5-bfea-4ff2-81db-b6c677d11ffb",
   "metadata": {},
   "outputs": [],
   "source": [
    "x = 10\n",
    "y = 3.14\n",
    "z = \"python\"\n",
    "flag = False"
   ]
  },
  {
   "cell_type": "code",
   "execution_count": 19,
   "id": "81b6c9c1-05f1-4557-a212-ba4d303453fa",
   "metadata": {},
   "outputs": [
    {
     "name": "stdout",
     "output_type": "stream",
     "text": [
      "<class 'int'> <class 'float'> <class 'str'> <class 'bool'>\n"
     ]
    }
   ],
   "source": [
    "print(type(x), type(y), type(z), type(flag))"
   ]
  },
  {
   "cell_type": "code",
   "execution_count": 30,
   "id": "f3b1face-e06d-447a-8d1d-1b2e562b1777",
   "metadata": {},
   "outputs": [],
   "source": [
    "name = \"tanish\"\n",
    "collage = \"avinsh college of commerce\"\n",
    "favorite_programmig_language = \"python\""
   ]
  },
  {
   "cell_type": "code",
   "execution_count": 31,
   "id": "efc18239-d384-472e-9655-8e8a0b3aa676",
   "metadata": {},
   "outputs": [
    {
     "name": "stdout",
     "output_type": "stream",
     "text": [
      "tanish avinsh college of commerce python\n"
     ]
    }
   ],
   "source": [
    "print(name,  collage, favorite_programmig_language)"
   ]
  },
  {
   "cell_type": "code",
   "execution_count": 32,
   "id": "188242aa-38cc-414b-94b3-f2b44922942c",
   "metadata": {},
   "outputs": [
    {
     "name": "stdout",
     "output_type": "stream",
     "text": [
      "Age: 19\n"
     ]
    }
   ],
   "source": [
    "birth_year = 2006\n",
    "present_year =2025\n",
    "age = present_year - birth_year\n",
    "print(\"Age:\",age)"
   ]
  },
  {
   "cell_type": "code",
   "execution_count": 35,
   "id": "744455c7-74ad-457a-962a-007a47dd6dda",
   "metadata": {},
   "outputs": [],
   "source": [
    "movie_name = \"og\"\n",
    "release_year = 2024\n",
    "rating = 10"
   ]
  },
  {
   "cell_type": "code",
   "execution_count": 38,
   "id": "e292cb7a-80db-44ee-8a5d-808dae96a018",
   "metadata": {},
   "outputs": [
    {
     "name": "stdout",
     "output_type": "stream",
     "text": [
      "<class 'str'> <class 'int'> <class 'int'>\n"
     ]
    }
   ],
   "source": [
    "print(type(movie_name), type(release_year), type(rating))"
   ]
  },
  {
   "cell_type": "code",
   "execution_count": 43,
   "id": "687f5495-7110-42be-9228-ccff7702b86f",
   "metadata": {},
   "outputs": [
    {
     "name": "stdout",
     "output_type": "stream",
     "text": [
      "addition: 10\n",
      "division: 1.5\n",
      "floor division: 1\n",
      "power: 1296\n"
     ]
    }
   ],
   "source": [
    "a = 6\n",
    "b = 4\n",
    "print(\"addition:\",a + b)\n",
    "print(\"division:\",a / b)\n",
    "print(\"floor division:\",a //b)\n",
    "print(\"power:\",a ** b)"
   ]
  },
  {
   "cell_type": "code",
   "execution_count": 47,
   "id": "5d375a7e-7d2e-4c17-8650-b56285647b7a",
   "metadata": {},
   "outputs": [
    {
     "name": "stdout",
     "output_type": "stream",
     "text": [
      "False\n",
      "True\n",
      "True\n"
     ]
    }
   ],
   "source": [
    "a = 10\n",
    "b =20\n",
    "print(a > b) #false\n",
    "print(a == 10) #true\n",
    "print((a < b) and (b ==20)) #true"
   ]
  },
  {
   "cell_type": "markdown",
   "id": "a1451ac5-6375-4441-a486-81b5bafcc6e9",
   "metadata": {},
   "source": [
    "# day 2 \n",
    "# data structure"
   ]
  },
  {
   "cell_type": "code",
   "execution_count": 1,
   "id": "9e4867b3-d217-47e2-ac06-500fb2e6efe9",
   "metadata": {},
   "outputs": [],
   "source": [
    "fruits = [\"apple\", \"banana\", \"mango\"]"
   ]
  },
  {
   "cell_type": "code",
   "execution_count": 2,
   "id": "3d4e8d50-7bcc-42b9-93b7-aec7ae44f284",
   "metadata": {},
   "outputs": [
    {
     "name": "stdout",
     "output_type": "stream",
     "text": [
      "['apple', 'banana', 'mango']\n"
     ]
    }
   ],
   "source": [
    "print(fruits)"
   ]
  },
  {
   "cell_type": "code",
   "execution_count": 3,
   "id": "c3385442-3511-42d0-abdb-ba656d73a11a",
   "metadata": {},
   "outputs": [],
   "source": [
    "fruits.append(\"orange\")"
   ]
  },
  {
   "cell_type": "code",
   "execution_count": 4,
   "id": "617ccfdb-595e-41ce-b52b-448d89bc10d8",
   "metadata": {},
   "outputs": [
    {
     "name": "stdout",
     "output_type": "stream",
     "text": [
      "['apple', 'banana', 'mango', 'orange']\n"
     ]
    }
   ],
   "source": [
    "print(fruits)"
   ]
  },
  {
   "cell_type": "code",
   "execution_count": 12,
   "id": "e83e7b10-2e27-4f3e-abe2-81140c7259fb",
   "metadata": {},
   "outputs": [],
   "source": [
    "name = [\"mani\", \"sunish\", \"manish\"]"
   ]
  },
  {
   "cell_type": "code",
   "execution_count": 6,
   "id": "44c7ad22-6245-4070-a16d-69a906428bbb",
   "metadata": {},
   "outputs": [
    {
     "name": "stdout",
     "output_type": "stream",
     "text": [
      "['mani', 'sunish', 'manish']\n"
     ]
    }
   ],
   "source": [
    "print(name)"
   ]
  },
  {
   "cell_type": "code",
   "execution_count": 14,
   "id": "97534e1a-90e5-48a2-b786-cf7ee4ce6bbc",
   "metadata": {},
   "outputs": [],
   "source": [
    "name.append(\"rithvik sai\")"
   ]
  },
  {
   "cell_type": "code",
   "execution_count": 15,
   "id": "d39db53e-f904-4d20-9cbb-b62cd7026a46",
   "metadata": {},
   "outputs": [
    {
     "name": "stdout",
     "output_type": "stream",
     "text": [
      "['mani', 'sunish', 'manish', 'rithvik sai']\n"
     ]
    }
   ],
   "source": [
    "print(name)"
   ]
  },
  {
   "cell_type": "code",
   "execution_count": 16,
   "id": "098fa73e-b404-474d-ab28-051d5ab686ee",
   "metadata": {},
   "outputs": [],
   "source": [
    "fruits.remove(\"banana\")"
   ]
  },
  {
   "cell_type": "code",
   "execution_count": 17,
   "id": "32d5e54f-95aa-4e7f-a635-2ef2a86b1d57",
   "metadata": {},
   "outputs": [
    {
     "name": "stdout",
     "output_type": "stream",
     "text": [
      "['apple', 'mango', 'orange']\n"
     ]
    }
   ],
   "source": [
    "print(fruits)"
   ]
  },
  {
   "cell_type": "code",
   "execution_count": 18,
   "id": "85666980-e83d-4be8-a091-e921a131940b",
   "metadata": {},
   "outputs": [],
   "source": [
    "colors = (\"red\", \"green\", \"blue\")"
   ]
  },
  {
   "cell_type": "code",
   "execution_count": 19,
   "id": "20448588-646c-4f8a-8c1a-093517174f0e",
   "metadata": {},
   "outputs": [
    {
     "name": "stdout",
     "output_type": "stream",
     "text": [
      "red\n"
     ]
    }
   ],
   "source": [
    "print(colors[0])"
   ]
  },
  {
   "cell_type": "code",
   "execution_count": 23,
   "id": "e9d181f3-3d52-43d0-a712-1cc21a07c72a",
   "metadata": {},
   "outputs": [
    {
     "ename": "TypeError",
     "evalue": "'tuple' object does not support item assignment",
     "output_type": "error",
     "traceback": [
      "\u001b[1;31m---------------------------------------------------------------------------\u001b[0m",
      "\u001b[1;31mTypeError\u001b[0m                                 Traceback (most recent call last)",
      "Cell \u001b[1;32mIn[23], line 1\u001b[0m\n\u001b[1;32m----> 1\u001b[0m colors[\u001b[38;5;241m1\u001b[39m] \u001b[38;5;241m=\u001b[39m \u001b[38;5;124m\"\u001b[39m\u001b[38;5;124myellow\u001b[39m\u001b[38;5;124m\"\u001b[39m\n",
      "\u001b[1;31mTypeError\u001b[0m: 'tuple' object does not support item assignment"
     ]
    }
   ],
   "source": [
    "colors[1] = \"yellow\""
   ]
  },
  {
   "cell_type": "code",
   "execution_count": 24,
   "id": "4219a530-7a17-4a0e-aa92-a8421548e0d7",
   "metadata": {},
   "outputs": [],
   "source": [
    "num = {1, 2, 3, 4}"
   ]
  },
  {
   "cell_type": "code",
   "execution_count": 25,
   "id": "1596c80c-a504-4a39-9580-a12bd4e2588d",
   "metadata": {},
   "outputs": [
    {
     "name": "stdout",
     "output_type": "stream",
     "text": [
      "{1, 2, 3, 4}\n"
     ]
    }
   ],
   "source": [
    "print(num)"
   ]
  },
  {
   "cell_type": "code",
   "execution_count": 26,
   "id": "40a9b2f5-e49f-471e-9294-bb70dae60c0d",
   "metadata": {},
   "outputs": [],
   "source": [
    "num.add(5)"
   ]
  },
  {
   "cell_type": "code",
   "execution_count": 27,
   "id": "095cf176-96c4-44e3-a8b4-fa6f52dbdad0",
   "metadata": {},
   "outputs": [
    {
     "name": "stdout",
     "output_type": "stream",
     "text": [
      "{1, 2, 3, 4, 5}\n"
     ]
    }
   ],
   "source": [
    "print(num)"
   ]
  },
  {
   "cell_type": "markdown",
   "id": "d689f96a-897a-46d2-b4a3-ae94561ebaf3",
   "metadata": {},
   "source": [
    "## dictionaries"
   ]
  },
  {
   "cell_type": "code",
   "execution_count": 28,
   "id": "8daf5a31-ee80-4ac8-a3f7-e03c16728fd7",
   "metadata": {},
   "outputs": [],
   "source": [
    "student = {\n",
    "    \"name\": \"tanish\",\n",
    "    \"age\": 22, \n",
    "    \"course\": \"python full stack\"\n",
    "}"
   ]
  },
  {
   "cell_type": "code",
   "execution_count": 29,
   "id": "9733f199-192a-4b5d-a1af-1e30b3c8ce57",
   "metadata": {},
   "outputs": [
    {
     "name": "stdout",
     "output_type": "stream",
     "text": [
      "{'name': 'tanish', 'age': 22, 'course': 'python full stack'}\n"
     ]
    }
   ],
   "source": [
    "print(student)"
   ]
  },
  {
   "cell_type": "code",
   "execution_count": 31,
   "id": "76a16700-f46d-45b7-827a-f7bf083548b9",
   "metadata": {},
   "outputs": [
    {
     "name": "stdout",
     "output_type": "stream",
     "text": [
      "tanish\n"
     ]
    }
   ],
   "source": [
    "print(student[\"name\"])"
   ]
  },
  {
   "cell_type": "code",
   "execution_count": 32,
   "id": "970e45f0-80c7-4160-93f8-d4175e53cef6",
   "metadata": {},
   "outputs": [
    {
     "name": "stdout",
     "output_type": "stream",
     "text": [
      "22\n"
     ]
    }
   ],
   "source": [
    "print(student[\"age\"])"
   ]
  },
  {
   "cell_type": "code",
   "execution_count": 33,
   "id": "45936b9e-2f0e-45d5-a9af-6e4b20195042",
   "metadata": {},
   "outputs": [
    {
     "name": "stdout",
     "output_type": "stream",
     "text": [
      "python full stack\n"
     ]
    }
   ],
   "source": [
    "print(student[\"course\"])"
   ]
  },
  {
   "cell_type": "code",
   "execution_count": 35,
   "id": "7990e104-9eca-4148-9be8-e9c0153a1403",
   "metadata": {},
   "outputs": [],
   "source": [
    "student[\"college\"] = \"avinash college of commerce\""
   ]
  },
  {
   "cell_type": "code",
   "execution_count": 36,
   "id": "34bb285e-84cf-4dbd-8999-932c70ac0a4e",
   "metadata": {},
   "outputs": [
    {
     "name": "stdout",
     "output_type": "stream",
     "text": [
      "{'name': 'tanish', 'age': 22, 'course': 'python full stack', 'college': 'avinash college of commerce'}\n"
     ]
    }
   ],
   "source": [
    "print(student)"
   ]
  },
  {
   "cell_type": "code",
   "execution_count": 37,
   "id": "9c43a28b-607a-42e3-9041-7cd5f941dccd",
   "metadata": {},
   "outputs": [
    {
     "name": "stdout",
     "output_type": "stream",
     "text": [
      "dict_keys(['name', 'age', 'course', 'college'])\n"
     ]
    }
   ],
   "source": [
    "print(student.keys())"
   ]
  },
  {
   "cell_type": "code",
   "execution_count": 39,
   "id": "0bfaddb2-3986-42fa-875b-de4a8f92633c",
   "metadata": {},
   "outputs": [
    {
     "name": "stdout",
     "output_type": "stream",
     "text": [
      "dict_values(['tanish', 22, 'python full stack', 'avinash college of commerce'])\n"
     ]
    }
   ],
   "source": [
    "print(student.values())"
   ]
  },
  {
   "cell_type": "code",
   "execution_count": null,
   "id": "2893072e-ce65-4c57-9b57-e6b55a1f04f2",
   "metadata": {},
   "outputs": [],
   "source": []
  },
  {
   "cell_type": "code",
   "execution_count": 42,
   "id": "563167ea-9e7d-47c5-bab1-a4f3f86c03ad",
   "metadata": {},
   "outputs": [
    {
     "name": "stdout",
     "output_type": "stream",
     "text": [
      "Grade:B\n"
     ]
    }
   ],
   "source": [
    "marks = 75\n",
    "if marks >= 90:\n",
    "    print(\"Grade:A\")\n",
    "elif marks >= 75:\n",
    "    print(\"Grade:B\")\n",
    "elif marks >= 50:\n",
    "    print(\"Grade:C\")\n",
    "else:\n",
    "    print(\"Grade: fail\")"
   ]
  },
  {
   "cell_type": "code",
   "execution_count": 45,
   "id": "53bd4359-7391-4b37-8b13-1a97b837f2ec",
   "metadata": {},
   "outputs": [
    {
     "name": "stdout",
     "output_type": "stream",
     "text": [
      "number: 1\n",
      "number: 2\n",
      "number: 3\n",
      "number: 4\n",
      "number: 5\n"
     ]
    }
   ],
   "source": [
    "\n",
    "for i in range(1, 6):\n",
    "    print(\"number:\", i)"
   ]
  },
  {
   "cell_type": "code",
   "execution_count": 50,
   "id": "fce84cfa-f81b-49b3-a12a-3cd99135aa80",
   "metadata": {},
   "outputs": [
    {
     "name": "stdout",
     "output_type": "stream",
     "text": [
      "count: 1\n",
      "count: 2\n",
      "count: 3\n",
      "count: 4\n",
      "count: 5\n",
      "count: 6\n",
      "count: 7\n",
      "count: 8\n",
      "count: 9\n",
      "count: 10\n"
     ]
    }
   ],
   "source": [
    "count = 1\n",
    "while count <= 10:\n",
    "    print(\"count:\", count)\n",
    "    count+= 1"
   ]
  },
  {
   "cell_type": "code",
   "execution_count": 7,
   "id": "0bb723f2-9809-4653-ada1-0c29eab4fff0",
   "metadata": {},
   "outputs": [],
   "source": [
    "for i in range(1, 10):\n",
    "    if i % 5:\n",
    "        break\n",
    "    print(i)"
   ]
  },
  {
   "cell_type": "code",
   "execution_count": null,
   "id": "060c6206-748e-4493-be63-2d34505cd329",
   "metadata": {},
   "outputs": [],
   "source": [
    "\n"
   ]
  },
  {
   "cell_type": "code",
   "execution_count": null,
   "id": "ee1c0b39-5f63-4c0f-9d52-12c5a243a1ac",
   "metadata": {},
   "outputs": [],
   "source": []
  }
 ],
 "metadata": {
  "kernelspec": {
   "display_name": "Python [conda env:base] *",
   "language": "python",
   "name": "conda-base-py"
  },
  "language_info": {
   "codemirror_mode": {
    "name": "ipython",
    "version": 3
   },
   "file_extension": ".py",
   "mimetype": "text/x-python",
   "name": "python",
   "nbconvert_exporter": "python",
   "pygments_lexer": "ipython3",
   "version": "3.13.5"
  }
 },
 "nbformat": 4,
 "nbformat_minor": 5
}
