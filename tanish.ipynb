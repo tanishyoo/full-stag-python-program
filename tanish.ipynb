{
 "cells": [
  {
   "cell_type": "code",
   "execution_count": 4,
   "id": "16dfb574-2477-4720-9fa0-c10934e9e299",
   "metadata": {},
   "outputs": [
    {
     "name": "stdout",
     "output_type": "stream",
     "text": [
      "hello, python full stack student!\n"
     ]
    }
   ],
   "source": [
    "print(\"hello, python full stack student!\")"
   ]
  },
  {
   "cell_type": "code",
   "execution_count": 5,
   "id": "6f5061d7-4209-4a00-92f5-0b25c262cbc2",
   "metadata": {},
   "outputs": [
    {
     "name": "stdout",
     "output_type": "stream",
     "text": [
      "my name is Tanish\n"
     ]
    }
   ],
   "source": [
    "print(\"my name is Tanish\")"
   ]
  },
  {
   "cell_type": "code",
   "execution_count": 6,
   "id": "276ceccc-a7a1-4999-80fb-ff4f07b47f0a",
   "metadata": {},
   "outputs": [
    {
     "name": "stdout",
     "output_type": "stream",
     "text": [
      "i am studying in b.com(CA)\n"
     ]
    }
   ],
   "source": [
    "print(\"i am studying in b.com(CA)\")"
   ]
  },
  {
   "cell_type": "code",
   "execution_count": 10,
   "id": "8d9aa9e6-45ee-43cb-807c-0a83cfa23bce",
   "metadata": {},
   "outputs": [],
   "source": [
    "name = \"tanish\"\n",
    "age = 19\n",
    "gpa = 8.5\n",
    "is_student = True\n"
   ]
  },
  {
   "cell_type": "code",
   "execution_count": 13,
   "id": "2c1d436c-7fcf-4e24-92b1-8fe83ac43287",
   "metadata": {},
   "outputs": [
    {
     "name": "stdout",
     "output_type": "stream",
     "text": [
      "tanish 19 8.5 True\n"
     ]
    }
   ],
   "source": [
    "print(name, age, gpa, is_student)"
   ]
  },
  {
   "cell_type": "code",
   "execution_count": 14,
   "id": "6d7a6ae9-6b9f-4915-8efb-28da3694d00b",
   "metadata": {},
   "outputs": [],
   "source": [
    "name = \"manish\"\n",
    "age = 22\n",
    "gpa = 7.8\n",
    "is_student = False\n"
   ]
  },
  {
   "cell_type": "code",
   "execution_count": 15,
   "id": "acd57127-a0eb-42cf-8d2c-181f24fcb671",
   "metadata": {},
   "outputs": [
    {
     "name": "stdout",
     "output_type": "stream",
     "text": [
      "manish 22 7.8 False\n"
     ]
    }
   ],
   "source": [
    "print(name, age, gpa, is_student)"
   ]
  },
  {
   "cell_type": "code",
   "execution_count": 18,
   "id": "e7ad8ad5-bfea-4ff2-81db-b6c677d11ffb",
   "metadata": {},
   "outputs": [],
   "source": [
    "x = 10\n",
    "y = 3.14\n",
    "z = \"python\"\n",
    "flag = False"
   ]
  },
  {
   "cell_type": "code",
   "execution_count": 19,
   "id": "81b6c9c1-05f1-4557-a212-ba4d303453fa",
   "metadata": {},
   "outputs": [
    {
     "name": "stdout",
     "output_type": "stream",
     "text": [
      "<class 'int'> <class 'float'> <class 'str'> <class 'bool'>\n"
     ]
    }
   ],
   "source": [
    "print(type(x), type(y), type(z), type(flag))"
   ]
  },
  {
   "cell_type": "code",
   "execution_count": 30,
   "id": "f3b1face-e06d-447a-8d1d-1b2e562b1777",
   "metadata": {},
   "outputs": [],
   "source": [
    "name = \"tanish\"\n",
    "collage = \"avinsh college of commerce\"\n",
    "favorite_programmig_language = \"python\""
   ]
  },
  {
   "cell_type": "code",
   "execution_count": 31,
   "id": "efc18239-d384-472e-9655-8e8a0b3aa676",
   "metadata": {},
   "outputs": [
    {
     "name": "stdout",
     "output_type": "stream",
     "text": [
      "tanish avinsh college of commerce python\n"
     ]
    }
   ],
   "source": [
    "print(name,  collage, favorite_programmig_language)"
   ]
  },
  {
   "cell_type": "code",
   "execution_count": 32,
   "id": "188242aa-38cc-414b-94b3-f2b44922942c",
   "metadata": {},
   "outputs": [
    {
     "name": "stdout",
     "output_type": "stream",
     "text": [
      "Age: 19\n"
     ]
    }
   ],
   "source": [
    "birth_year = 2006\n",
    "present_year =2025\n",
    "age = present_year - birth_year\n",
    "print(\"Age:\",age)"
   ]
  },
  {
   "cell_type": "code",
   "execution_count": 35,
   "id": "744455c7-74ad-457a-962a-007a47dd6dda",
   "metadata": {},
   "outputs": [],
   "source": [
    "movie_name = \"og\"\n",
    "release_year = 2024\n",
    "rating = 10"
   ]
  },
  {
   "cell_type": "code",
   "execution_count": 38,
   "id": "e292cb7a-80db-44ee-8a5d-808dae96a018",
   "metadata": {},
   "outputs": [
    {
     "name": "stdout",
     "output_type": "stream",
     "text": [
      "<class 'str'> <class 'int'> <class 'int'>\n"
     ]
    }
   ],
   "source": [
    "print(type(movie_name), type(release_year), type(rating))"
   ]
  },
  {
   "cell_type": "code",
   "execution_count": 43,
   "id": "687f5495-7110-42be-9228-ccff7702b86f",
   "metadata": {},
   "outputs": [
    {
     "name": "stdout",
     "output_type": "stream",
     "text": [
      "addition: 10\n",
      "division: 1.5\n",
      "floor division: 1\n",
      "power: 1296\n"
     ]
    }
   ],
   "source": [
    "a = 6\n",
    "b = 4\n",
    "print(\"addition:\",a + b)\n",
    "print(\"division:\",a / b)\n",
    "print(\"floor division:\",a //b)\n",
    "print(\"power:\",a ** b)"
   ]
  },
  {
   "cell_type": "code",
   "execution_count": 47,
   "id": "5d375a7e-7d2e-4c17-8650-b56285647b7a",
   "metadata": {},
   "outputs": [
    {
     "name": "stdout",
     "output_type": "stream",
     "text": [
      "False\n",
      "True\n",
      "True\n"
     ]
    }
   ],
   "source": [
    "a = 10\n",
    "b =20\n",
    "print(a > b) #false\n",
    "print(a == 10) #true\n",
    "print((a < b) and (b ==20)) #true"
   ]
  },
  {
   "cell_type": "code",
   "execution_count": null,
   "id": "b1c2939b-9bd6-4687-9d26-4fb94552acfa",
   "metadata": {},
   "outputs": [],
   "source": []
  }
 ],
 "metadata": {
  "kernelspec": {
   "display_name": "Python [conda env:base] *",
   "language": "python",
   "name": "conda-base-py"
  },
  "language_info": {
   "codemirror_mode": {
    "name": "ipython",
    "version": 3
   },
   "file_extension": ".py",
   "mimetype": "text/x-python",
   "name": "python",
   "nbconvert_exporter": "python",
   "pygments_lexer": "ipython3",
   "version": "3.13.5"
  }
 },
 "nbformat": 4,
 "nbformat_minor": 5
}
